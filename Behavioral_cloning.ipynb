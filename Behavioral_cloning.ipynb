{
  "nbformat": 4,
  "nbformat_minor": 0,
  "metadata": {
    "colab": {
      "provenance": [],
      "authorship_tag": "ABX9TyMoa7XF3sAM8f8Bm/dTV+WI",
      "include_colab_link": true
    },
    "kernelspec": {
      "name": "python3",
      "display_name": "Python 3"
    },
    "language_info": {
      "name": "python"
    }
  },
  "cells": [
    {
      "cell_type": "markdown",
      "metadata": {
        "id": "view-in-github",
        "colab_type": "text"
      },
      "source": [
        "<a href=\"https://colab.research.google.com/github/ravishankar-cloud/machine-learning/blob/main/Behavioral_cloning.ipynb\" target=\"_parent\"><img src=\"https://colab.research.google.com/assets/colab-badge.svg\" alt=\"Open In Colab\"/></a>"
      ]
    },
    {
      "cell_type": "code",
      "execution_count": null,
      "metadata": {
        "id": "X4y8isbVuCT5"
      },
      "outputs": [],
      "source": [
        "! git clone https://github.com/rslim087a/track"
      ]
    },
    {
      "cell_type": "code",
      "source": [
        "!ls track"
      ],
      "metadata": {
        "id": "nUTDPNlGuL23"
      },
      "execution_count": null,
      "outputs": []
    },
    {
      "cell_type": "code",
      "source": [
        "!pip3 install imgaug"
      ],
      "metadata": {
        "id": "6CKTU0-yHnAR"
      },
      "execution_count": null,
      "outputs": []
    },
    {
      "cell_type": "code",
      "source": [
        "import numpy as np\n",
        "import matplotlib.pyplot as plt\n",
        "import keras\n",
        "from keras.models import Sequential\n",
        "from keras.optimizers import Adam\n",
        "from keras.layers import Convolution2D,MaxPooling2D,Dropout, Flatten, Dense\n",
        "import cv2\n",
        "import pandas as pd\n",
        "import random\n",
        "import os\n",
        "import ntpath\n",
        "from sklearn.utils import shuffle\n",
        "from sklearn.model_selection import train_test_split\n",
        "import matplotlib.image as mpimg\n",
        "from imgaug import augmenters as iaa"
      ],
      "metadata": {
        "id": "vrMyQ-xDuZfh"
      },
      "execution_count": null,
      "outputs": []
    },
    {
      "cell_type": "code",
      "source": [
        "datadir='track'\n",
        "columns=['center','left','right','steering','throttle','reverse','speed']\n",
        "data=pd.read_csv(os.path.join(datadir,'driving_log.csv'),names=columns)\n",
        "pd.set_option('display.max_colwidth',-1)\n",
        "data.head()"
      ],
      "metadata": {
        "id": "2DZzjC5Lu7fM"
      },
      "execution_count": null,
      "outputs": []
    },
    {
      "cell_type": "code",
      "source": [
        " def path_leaf(path):\n",
        "    head,tail=ntpath.split(path)\n",
        "    return tail\n",
        "\n",
        " data['center']=data['center'].apply(path_leaf)\n",
        " data['left']=data['left'].apply(path_leaf)\n",
        " data['right']=data['right'].apply(path_leaf)\n",
        " data.head()\n",
        "\n"
      ],
      "metadata": {
        "id": "-Y7RJts0wTs4"
      },
      "execution_count": null,
      "outputs": []
    },
    {
      "cell_type": "code",
      "source": [
        "num_bins=25\n",
        "samples_per_bin=400\n",
        "hist,bins=np.histogram(data['steering'],num_bins)\n",
        "center=(bins[:-1] + bins[1:]) * 0.5\n",
        "plt.bar(center,hist,width=0.05)\n",
        "plt.plot((np.min(data['steering']),np.max(data['steering'])),(samples_per_bin,samples_per_bin))\n",
        "\n"
      ],
      "metadata": {
        "id": "W5k2SBoDyZfc"
      },
      "execution_count": null,
      "outputs": []
    },
    {
      "cell_type": "code",
      "source": [
        "print('total data: ', len(data))\n",
        "remove_list=[]\n",
        "for j in range (num_bins):\n",
        "  list_=[]\n",
        "  for i in range(len(data['steering'])):\n",
        "    if data['steering'][i] >= bins[j] and data['steering'][i] <= bins[j+1]:\n",
        "      list_.append(i)\n",
        "  list_=shuffle(list_)\n",
        "  list_=  list_[\n",
        "    samples_per_bin:]\n",
        "  remove_list.extend(list_)\n",
        "\n",
        "print('removed',len(remove_list))\n",
        "data.drop(data.index[remove_list],inplace=True)\n",
        "print('remaining', len(data))\n",
        "\n",
        "hist, _=np.histogram(data['steering'],(num_bins))\n",
        "plt.bar(center,hist,width=0.05)\n",
        "plt.plot((np.min(data['steering']),np.max(data['steering'])),(samples_per_bin,samples_per_bin))\n",
        "      "
      ],
      "metadata": {
        "id": "SSsufSdkzHky"
      },
      "execution_count": null,
      "outputs": []
    },
    {
      "cell_type": "code",
      "source": [
        "def load_img_steering(datadir,df):\n",
        "  image_path=[]\n",
        "  steering=[]\n",
        "  for i in range(len(data)):\n",
        "    indexed_data=data.iloc[i]\n",
        "    center,left,right=indexed_data[0],indexed_data[1],indexed_data[2]\n",
        "    image_path.append(os.path.join(datadir, center.strip()))\n",
        "    steering.append(float(indexed_data[3]))\n",
        "  image_paths=np.asarray(image_path)\n",
        "  steerings=np.asarray(steering)\n",
        "  return image_paths, steerings\n",
        "\n",
        "image_paths, steerings= load_img_steering(datadir +'/IMG',data)\n",
        "    "
      ],
      "metadata": {
        "id": "ihbB95PCXOJZ"
      },
      "execution_count": null,
      "outputs": []
    },
    {
      "cell_type": "code",
      "source": [
        "X_train,X_valid,y_train,y_valid=train_test_split(image_paths,steerings,test_size=0.2, random_state=6)\n",
        "print(\"Training samples: {}\\nValid samples: {}\".format(len(X_train),len(X_valid)) )"
      ],
      "metadata": {
        "id": "fjP3tRdbnpjj"
      },
      "execution_count": null,
      "outputs": []
    },
    {
      "cell_type": "code",
      "source": [
        "fig, axes = plt.subplots(1,2,figsize=(12,4))\n",
        "axes[0].hist(y_train, bins=num_bins,width=0.05,color='blue')\n",
        "axes[0].set_title('Training set')\n",
        "axes[1].hist(y_valid, bins=num_bins,width=0.05,color='red')\n",
        "axes[1].set_title('Validation   set')"
      ],
      "metadata": {
        "id": "lwjv2LlroGmH"
      },
      "execution_count": null,
      "outputs": []
    },
    {
      "cell_type": "code",
      "source": [
        "def zoom(image):\n",
        "  zoom=iaa.Affine(scale=(1,1.3))\n",
        "  image=zoom.augment_image(image)\n",
        "  return image"
      ],
      "metadata": {
        "id": "ANdQWOm0IEN2"
      },
      "execution_count": null,
      "outputs": []
    },
    {
      "cell_type": "code",
      "source": [
        "image=image_paths[random.randint(0,1000)]\n",
        "original_image=mpimg.imread(image)\n",
        "zoomed_image=zoom(original_image)\n",
        "\n",
        "fig,axs=plt.subplots(1,2,figsize=(15,10))\n",
        "fig.tight_layout()\n",
        "\n",
        "axs[0].imshow(original_image)\n",
        "axs[0].set_title('original image')\n",
        "\n",
        "axs[1].imshow(original_image)\n",
        "axs[1].set_title('Augmented image')"
      ],
      "metadata": {
        "id": "JdQw2q7JIp9g"
      },
      "execution_count": null,
      "outputs": []
    },
    {
      "cell_type": "code",
      "source": [
        "def pen(image):\n",
        "  pen=iaa.Affine(translate_percent={\"x\":(-0.1,0.1), \"y\":(-0.1,0.1)})\n",
        "  image=pen.augment_image(image)\n",
        "  return image"
      ],
      "metadata": {
        "id": "F5o7QcRJJ-kD"
      },
      "execution_count": null,
      "outputs": []
    },
    {
      "cell_type": "code",
      "source": [
        "image=image_paths[random.randint(0,1000)]\n",
        "original_image=mpimg.imread(image)\n",
        "penned_image=pen(original_image)\n",
        "\n",
        "\n",
        "fig,axs=plt.subplots(1,2,figsize=(15,10))\n",
        "fig.tight_layout()\n",
        "\n",
        "axs[0].imshow(original_image)\n",
        "axs[0].set_title('original image')\n",
        "\n",
        "axs[1].imshow(penned_image)\n",
        "axs[1].set_title('Penned image')"
      ],
      "metadata": {
        "id": "4K8xgADqLC3m"
      },
      "execution_count": null,
      "outputs": []
    },
    {
      "cell_type": "code",
      "source": [
        "def img_random_brightness(image):\n",
        "  brightness=iaa.Multiply((0.2,1.2))\n",
        "  image=brightness.augment_image(image)\n",
        "  return image"
      ],
      "metadata": {
        "id": "NyAJ7WgdLf56"
      },
      "execution_count": null,
      "outputs": []
    },
    {
      "cell_type": "code",
      "source": [
        "image=image_paths[random.randint(0,1000)]\n",
        "original_image=mpimg.imread(image)\n",
        "brightness_altered_image=img_random_brightness(original_image)\n",
        "\n",
        "fig,axs=plt.subplots(1,2,figsize=(15,10))\n",
        "fig.tight_layout()\n",
        "\n",
        "axs[0].imshow(original_image)\n",
        "axs[0].set_title('original image')\n",
        "\n",
        "axs[1].imshow(brightness_altered_image)\n",
        "axs[1].set_title('brightness image')"
      ],
      "metadata": {
        "id": "R3F_KuvfMnRv"
      },
      "execution_count": null,
      "outputs": []
    },
    {
      "cell_type": "code",
      "source": [
        "def img_random_flip(image,steering_angle):\n",
        "  image=cv2.flip(image,1)\n",
        "  steering_angle=-steering_angle\n",
        "  return image,steering_angle\n"
      ],
      "metadata": {
        "id": "j3YEUMfjPukH"
      },
      "execution_count": null,
      "outputs": []
    },
    {
      "cell_type": "code",
      "source": [
        "random_index=random.randint(0,1000)\n",
        "image=image_paths[random_index]\n",
        "steering_angle=steerings[random_index]\n",
        "original_image=mpimg.imread(image)\n",
        "flipped_image, flipped_steering_angle=img_random_flip(original_image,steering_angle)\n",
        "\n",
        "fig,axs=plt.subplots(1,2,figsize=(15,10))\n",
        "fig.tight_layout()\n",
        "\n",
        "axs[0].imshow(original_image)\n",
        "axs[0].set_title('original image'+ 'Steering Angle ' + str(steering_angle))\n",
        "\n",
        "axs[1].imshow(flipped_image)\n",
        "axs[1].set_title('flipped image'+ 'Steering Angle ' + str(flipped_steering_angle))"
      ],
      "metadata": {
        "id": "3qJHnIxDQ8C4"
      },
      "execution_count": null,
      "outputs": []
    },
    {
      "cell_type": "code",
      "source": [
        "def random_augment(image,steering_angle):\n",
        "  image=mpimg.imread(image)\n",
        "  if np.random.rand() < 0.5:\n",
        "    image=pen(image)\n",
        "  if np.random.rand() < 0.5:\n",
        "    image=zoom(image)\n",
        "  if np.random.rand() < 0.5:\n",
        "    image=img_random_brightness(image)\n",
        "  if np.random.rand() < 0.5:\n",
        "    image,steering_angle=img_random_flip(image,steering_angle)\n",
        "  return image,steering_angle"
      ],
      "metadata": {
        "id": "HyYZ_5b4SiAc"
      },
      "execution_count": null,
      "outputs": []
    },
    {
      "cell_type": "code",
      "source": [
        "ncol=2\n",
        "nrow=10\n",
        "fig,axs =plt.subplots(nrow,ncol,figsize=(15,15))\n",
        "fig.tight_layout()\n",
        "\n",
        "for i in range(10):\n",
        "  randnum=random.randint(0,len(image_paths)-1)\n",
        "  random_image=image_paths[randnum]\n",
        "  random_steering=steerings[randnum]\n",
        "\n",
        "  original_image=mpimg.imread(random_image)\n",
        "  augmented_image, steering=random_augment(random_image,random_steering)\n",
        "\n",
        "  axs[i][0].imshow(original_image)\n",
        "  axs[1][0].set_title('Original image')\n",
        "\n",
        "  axs[i][1].imshow(augmented_image)\n",
        "  axs[1][1].set_title('Augmented image')"
      ],
      "metadata": {
        "id": "igir17SBVlSy"
      },
      "execution_count": null,
      "outputs": []
    },
    {
      "cell_type": "code",
      "source": [],
      "metadata": {
        "id": "9bp5_7tkXHF4"
      },
      "execution_count": null,
      "outputs": []
    },
    {
      "cell_type": "code",
      "source": [],
      "metadata": {
        "id": "9AKQpwt4XDm_"
      },
      "execution_count": null,
      "outputs": []
    },
    {
      "cell_type": "code",
      "source": [],
      "metadata": {
        "id": "iYP-JVJnW_mb"
      },
      "execution_count": null,
      "outputs": []
    },
    {
      "cell_type": "code",
      "source": [],
      "metadata": {
        "id": "dsnEeIrtScMQ"
      },
      "execution_count": null,
      "outputs": []
    },
    {
      "cell_type": "code",
      "source": [],
      "metadata": {
        "id": "98v1DMrMSW0y"
      },
      "execution_count": null,
      "outputs": []
    },
    {
      "cell_type": "code",
      "source": [],
      "metadata": {
        "id": "bzbNgdhrRrYj"
      },
      "execution_count": null,
      "outputs": []
    },
    {
      "cell_type": "code",
      "source": [
        "def img_preprocess(img):\n",
        "  img=img[60:135,:,:]\n",
        "  img=cv2.cvtColor(img,cv2.COLOR_RGB2YUV)\n",
        "  img=cv2.GaussianBlur(img,(3,3),0)\n",
        "  img=cv2.resize(img,(200,66))\n",
        "  img=img/255\n",
        "  return img"
      ],
      "metadata": {
        "id": "ROvOSxKKpuVT"
      },
      "execution_count": null,
      "outputs": []
    },
    {
      "cell_type": "code",
      "source": [
        "image=image_paths[100]\n",
        "original_image=mpimg.imread(image)\n",
        "preprocessed_image=img_preprocess(original_image)\n",
        "fig,axs=plt.subplots (1,2,figsize=(15,10))\n",
        "fig.tight_layout()\n",
        "axs[0].imshow(original_image)\n",
        "axs[0].set_title(\"original_image\")\n",
        "axs[1].imshow(preprocessed_image)\n",
        "axs[1].set_title(\"preprocessed_image\")\n"
      ],
      "metadata": {
        "id": "RP9Fe4L_usMn"
      },
      "execution_count": null,
      "outputs": []
    },
    {
      "cell_type": "code",
      "source": [
        "def batch_generator(image_paths,steering_ang,batch_size,istraining):\n",
        "  while True:\n",
        "    batch_img=[]\n",
        "    batch_steering=[]\n",
        "\n",
        "    for i in range(batch_size):\n",
        "      random_index=random.randint(0,len(image_paths)-1)\n",
        "\n",
        "      if istraining:\n",
        "        im, steering=random_augment(image_paths[random_index],steering_ang[random_index])\n",
        "      else:\n",
        "        im=mpimg.imread(image_paths[random_index])\n",
        "        steering=steering_ang[random_index]\n",
        "      im=img_preprocess(im)\n",
        "      batch_img.append(im)\n",
        "      batch_steering.append(steering)\n",
        "    yield (np.asarray(batch_img),np.asarray(batch_steering))\n",
        "\n",
        "\n"
      ],
      "metadata": {
        "id": "dvnuAHCzywwg"
      },
      "execution_count": null,
      "outputs": []
    },
    {
      "cell_type": "code",
      "source": [
        "X_train_gen,y_train_gen=next(batch_generator(X_train,y_train,1,1))\n",
        "X_valid_gen,y_valid_gen=next(batch_generator(X_train,y_train,1,0))\n",
        "\n",
        "image=image_paths[random.randint(0,1000)]\n",
        "original_image=mpimg.imread(image)\n",
        "brightness_altered_image=img_random_brightness(original_image)\n",
        "\n",
        "fig,axs=plt.subplots(1,2,figsize=(15,10))\n",
        "fig.tight_layout()\n",
        "\n",
        "axs[0].imshow(X_train_gen[0])\n",
        "axs[0].set_title('Training image')\n",
        "\n",
        "axs[1].imshow(X_valid_gen[0])\n",
        "axs[1].set_title('Validation image')"
      ],
      "metadata": {
        "id": "fT6l_mDw3__g"
      },
      "execution_count": null,
      "outputs": []
    },
    {
      "cell_type": "code",
      "source": [
        "def nvidia_model():\n",
        "  model=Sequential()\n",
        "  model.add(Convolution2D(24,(5,5),strides=(2,2),input_shape=(66,200,3),activation='elu'))\n",
        "  model.add(Convolution2D(48,(5,5),strides=(2,2),activation='elu'))\n",
        "  model.add(Convolution2D(64,3,3,activation='elu'))\n",
        "\n",
        "  model.add(Convolution2D(64,3,3,activation='elu'))\n",
        "\n",
        "  model.add(Flatten())\n",
        "\n",
        "  model.add(Dense(100,activation='elu'))\n",
        "\n",
        "  model.add(Dense(50,activation='elu'))\n",
        "\n",
        "  model.add(Dense(10,activation='elu'))\n",
        "\n",
        "  model.add(Dense(1))\n",
        "\n",
        "  optimizer =Adam(lr=1e-4)\n",
        "  model.compile(loss='mse',optimizer=optimizer)\n",
        "  return model\n"
      ],
      "metadata": {
        "id": "Rj4nFMFm2UWf"
      },
      "execution_count": null,
      "outputs": []
    },
    {
      "cell_type": "code",
      "source": [
        "model=nvidia_model()\n",
        "print(model.summary())"
      ],
      "metadata": {
        "id": "XGXse4397hc3"
      },
      "execution_count": null,
      "outputs": []
    },
    {
      "cell_type": "code",
      "source": [
        "history = model.fit_generator(batch_generator(X_train, y_train, 100, 1),\n",
        "                                  steps_per_epoch=300, \n",
        "                                  epochs=10,\n",
        "                                  validation_data=batch_generator(X_valid, y_valid, 100, 0),\n",
        "                                  validation_steps=200,\n",
        "                                  verbose=1,\n",
        "                                  shuffle = 1)"
      ],
      "metadata": {
        "colab": {
          "base_uri": "https://localhost:8080/"
        },
        "id": "dLL-VhyB9s1X",
        "outputId": "9046e8e7-c9be-4e08-cb57-f45dd69504cf"
      },
      "execution_count": null,
      "outputs": [
        {
          "output_type": "stream",
          "name": "stdout",
          "text": [
            "300/300 [==============================] - 426s 1s/step - loss: 0.1598 - val_loss: 0.0809\n",
            "Epoch 2/10\n",
            "300/300 [==============================] - 399s 1s/step - loss: 0.1040 - val_loss: 0.0702\n",
            "Epoch 3/10\n",
            "279/300 [==========================>...] - ETA: 22s - loss: 0.0994"
          ]
        }
      ]
    },
    {
      "cell_type": "code",
      "source": [
        "plt.plot(history.history['loss'])\n",
        "plt.plot(history.history['val_loss'])\n",
        "plt.legend(['training', 'validation'])\n",
        "plt.title('Loss')\n",
        "plt.xlabel('Epoch')"
      ],
      "metadata": {
        "id": "kY-hhYOg8HD1"
      },
      "execution_count": null,
      "outputs": []
    },
    {
      "cell_type": "code",
      "source": [
        "model.save('model.h5')"
      ],
      "metadata": {
        "id": "0Ymo1NmMATjq"
      },
      "execution_count": null,
      "outputs": []
    },
    {
      "cell_type": "code",
      "source": [
        "from google.colab import files\n",
        "files.download('model.h5')"
      ],
      "metadata": {
        "id": "flvpyESEDkRH"
      },
      "execution_count": null,
      "outputs": []
    },
    {
      "cell_type": "code",
      "source": [],
      "metadata": {
        "id": "NktyhPt6DtgQ"
      },
      "execution_count": null,
      "outputs": []
    }
  ]
}